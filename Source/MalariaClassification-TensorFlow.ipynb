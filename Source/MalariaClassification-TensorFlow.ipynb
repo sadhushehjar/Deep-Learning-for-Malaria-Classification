{
 "cells": [
  {
   "cell_type": "code",
   "execution_count": 13,
   "metadata": {},
   "outputs": [],
   "source": [
    "import matplotlib.pyplot as plt\n",
    "from tqdm import tqdm # For progress bar.\n",
    "import numpy as np # To do array operations.\n",
    "import os # To iterate through directories and join paths.\n",
    "import cv2 # To do image operations.\n",
    "import pickle\n",
    "import random"
   ]
  },
  {
   "cell_type": "markdown",
   "metadata": {},
   "source": [
    "# Loading the dataset:"
   ]
  },
  {
   "cell_type": "code",
   "execution_count": 14,
   "metadata": {},
   "outputs": [],
   "source": [
    "from fpCSC592.data_utils import create_training_data\n",
    "from fpCSC592.data_utils import convert"
   ]
  },
  {
   "cell_type": "code",
   "execution_count": 5,
   "metadata": {},
   "outputs": [
    {
     "name": "stderr",
     "output_type": "stream",
     "text": [
      "100%|██████████| 13780/13780 [00:11<00:00, 1211.81it/s]\n",
      "100%|██████████| 13780/13780 [00:12<00:00, 1085.25it/s]\n"
     ]
    }
   ],
   "source": [
    "# ####################################################\n",
    "# NOTE: Cange this path if using on other computers. #\n",
    "# ################################################## #\n",
    "\n",
    "DATADIR = \"/Users/shehjarsadhu/Desktop/Spring19/CSC592DeepLearning/MalariaProject/cell_images\"\n",
    "CATEGORIES = [\"Uninfected\", \"Parasitized\"]\n",
    "\n",
    "train  = create_training_data(DATADIR,CATEGORIES)"
   ]
  },
  {
   "cell_type": "code",
   "execution_count": 6,
   "metadata": {},
   "outputs": [
    {
     "name": "stdout",
     "output_type": "stream",
     "text": [
      "[[[[  0]\n",
      "   [  0]\n",
      "   [  0]\n",
      "   ...\n",
      "   [  0]\n",
      "   [  0]\n",
      "   [  0]]\n",
      "\n",
      "  [[  0]\n",
      "   [  0]\n",
      "   [  0]\n",
      "   ...\n",
      "   [  0]\n",
      "   [  0]\n",
      "   [  0]]\n",
      "\n",
      "  [[  0]\n",
      "   [  0]\n",
      "   [  0]\n",
      "   ...\n",
      "   [  0]\n",
      "   [  0]\n",
      "   [  0]]\n",
      "\n",
      "  ...\n",
      "\n",
      "  [[  0]\n",
      "   [  0]\n",
      "   [  0]\n",
      "   ...\n",
      "   [139]\n",
      "   [ 89]\n",
      "   [175]]\n",
      "\n",
      "  [[141]\n",
      "   [ 91]\n",
      "   [177]\n",
      "   ...\n",
      "   [143]\n",
      "   [ 93]\n",
      "   [179]]\n",
      "\n",
      "  [[142]\n",
      "   [ 92]\n",
      "   [178]\n",
      "   ...\n",
      "   [  0]\n",
      "   [  0]\n",
      "   [  0]]]\n",
      "\n",
      "\n",
      " [[[  0]\n",
      "   [  0]\n",
      "   [  0]\n",
      "   ...\n",
      "   [144]\n",
      "   [ 92]\n",
      "   [178]]\n",
      "\n",
      "  [[133]\n",
      "   [ 79]\n",
      "   [169]\n",
      "   ...\n",
      "   [144]\n",
      "   [ 94]\n",
      "   [178]]\n",
      "\n",
      "  [[143]\n",
      "   [ 92]\n",
      "   [179]\n",
      "   ...\n",
      "   [  0]\n",
      "   [  0]\n",
      "   [  0]]\n",
      "\n",
      "  ...\n",
      "\n",
      "  [[  0]\n",
      "   [  0]\n",
      "   [  0]\n",
      "   ...\n",
      "   [144]\n",
      "   [ 93]\n",
      "   [180]]\n",
      "\n",
      "  [[142]\n",
      "   [ 91]\n",
      "   [178]\n",
      "   ...\n",
      "   [146]\n",
      "   [ 95]\n",
      "   [182]]\n",
      "\n",
      "  [[143]\n",
      "   [ 93]\n",
      "   [177]\n",
      "   ...\n",
      "   [  0]\n",
      "   [  0]\n",
      "   [  0]]]\n",
      "\n",
      "\n",
      " [[[165]\n",
      "   [150]\n",
      "   [216]\n",
      "   ...\n",
      "   [144]\n",
      "   [ 93]\n",
      "   [180]]\n",
      "\n",
      "  [[146]\n",
      "   [ 94]\n",
      "   [181]\n",
      "   ...\n",
      "   [143]\n",
      "   [ 92]\n",
      "   [179]]\n",
      "\n",
      "  [[145]\n",
      "   [ 95]\n",
      "   [179]\n",
      "   ...\n",
      "   [  0]\n",
      "   [  0]\n",
      "   [  0]]\n",
      "\n",
      "  ...\n",
      "\n",
      "  [[  0]\n",
      "   [  0]\n",
      "   [  0]\n",
      "   ...\n",
      "   [152]\n",
      "   [149]\n",
      "   [197]]\n",
      "\n",
      "  [[166]\n",
      "   [161]\n",
      "   [215]\n",
      "   ...\n",
      "   [  0]\n",
      "   [  0]\n",
      "   [  0]]\n",
      "\n",
      "  [[  0]\n",
      "   [  0]\n",
      "   [  0]\n",
      "   ...\n",
      "   [  0]\n",
      "   [  0]\n",
      "   [  0]]]]\n"
     ]
    }
   ],
   "source": [
    "X , y = convert(train)"
   ]
  },
  {
   "cell_type": "code",
   "execution_count": 7,
   "metadata": {},
   "outputs": [],
   "source": [
    "# To save the data so we don't have to load it over and over again.\n",
    "pickle_out = open(\"X.pickle\",\"wb\")\n",
    "pickle.dump(X, pickle_out)\n",
    "pickle_out.close()\n",
    "pickle_out = open(\"y.pickle\",\"wb\")\n",
    "pickle.dump(y, pickle_out)\n",
    "pickle_out.close()"
   ]
  },
  {
   "cell_type": "code",
   "execution_count": 8,
   "metadata": {},
   "outputs": [],
   "source": [
    "pickle_in = open(\"X.pickle\",\"rb\")\n",
    "X = pickle.load(pickle_in)\n",
    "pickle_in = open(\"y.pickle\",\"rb\")\n",
    "y = pickle.load(pickle_in)"
   ]
  },
  {
   "cell_type": "code",
   "execution_count": null,
   "metadata": {},
   "outputs": [],
   "source": []
  },
  {
   "cell_type": "code",
   "execution_count": 9,
   "metadata": {},
   "outputs": [
    {
     "name": "stdout",
     "output_type": "stream",
     "text": [
      "[[[0.         0.         0.         ... 0.         0.         0.        ]\n",
      "  [0.         0.         0.         ... 0.         0.         0.        ]\n",
      "  [0.         0.         0.         ... 0.         0.         0.        ]\n",
      "  ...\n",
      "  [0.         0.         0.         ... 0.54509804 0.34901961 0.68627451]\n",
      "  [0.55294118 0.35686275 0.69411765 ... 0.56078431 0.36470588 0.70196078]\n",
      "  [0.55686275 0.36078431 0.69803922 ... 0.         0.         0.        ]]\n",
      "\n",
      " [[0.         0.         0.         ... 0.56470588 0.36078431 0.69803922]\n",
      "  [0.52156863 0.30980392 0.6627451  ... 0.56470588 0.36862745 0.69803922]\n",
      "  [0.56078431 0.36078431 0.70196078 ... 0.         0.         0.        ]\n",
      "  ...\n",
      "  [0.         0.         0.         ... 0.56470588 0.36470588 0.70588235]\n",
      "  [0.55686275 0.35686275 0.69803922 ... 0.57254902 0.37254902 0.71372549]\n",
      "  [0.56078431 0.36470588 0.69411765 ... 0.         0.         0.        ]]\n",
      "\n",
      " [[0.64705882 0.58823529 0.84705882 ... 0.56470588 0.36470588 0.70588235]\n",
      "  [0.57254902 0.36862745 0.70980392 ... 0.56078431 0.36078431 0.70196078]\n",
      "  [0.56862745 0.37254902 0.70196078 ... 0.         0.         0.        ]\n",
      "  ...\n",
      "  [0.         0.         0.         ... 0.59607843 0.58431373 0.77254902]\n",
      "  [0.65098039 0.63137255 0.84313725 ... 0.         0.         0.        ]\n",
      "  [0.         0.         0.         ... 0.         0.         0.        ]]\n",
      "\n",
      " ...\n",
      "\n",
      " [[0.         0.         0.         ... 0.         0.         0.        ]\n",
      "  [0.         0.         0.         ... 0.         0.         0.        ]\n",
      "  [0.         0.         0.         ... 0.         0.         0.        ]\n",
      "  ...\n",
      "  [0.         0.         0.         ... 0.6        0.58039216 0.78039216]\n",
      "  [0.61176471 0.59215686 0.79215686 ... 0.61960784 0.60392157 0.79607843]\n",
      "  [0.61960784 0.61176471 0.8        ... 0.         0.         0.        ]]\n",
      "\n",
      " [[0.         0.         0.         ... 0.60392157 0.58431373 0.78431373]\n",
      "  [0.60392157 0.58431373 0.78823529 ... 0.61568627 0.6        0.79215686]\n",
      "  [0.61568627 0.60392157 0.79607843 ... 0.         0.         0.        ]\n",
      "  ...\n",
      "  [0.64313725 0.63921569 0.80392157 ... 0.61176471 0.6        0.79215686]\n",
      "  [0.60784314 0.59215686 0.78823529 ... 0.61176471 0.6        0.79215686]\n",
      "  [0.61176471 0.6        0.79215686 ... 0.         0.         0.        ]]\n",
      "\n",
      " [[0.         0.         0.         ... 0.60784314 0.59607843 0.78823529]\n",
      "  [0.61176471 0.6        0.79215686 ... 0.61176471 0.6        0.79215686]\n",
      "  [0.61176471 0.6        0.79215686 ... 0.         0.         0.        ]\n",
      "  ...\n",
      "  [0.         0.         0.         ... 0.         0.         0.        ]\n",
      "  [0.64313725 0.65098039 0.80784314 ... 0.         0.         0.        ]\n",
      "  [0.         0.         0.         ... 0.         0.         0.        ]]]\n"
     ]
    }
   ],
   "source": [
    "## Preprocessing:\n",
    "X = X/255.0\n",
    "print(X)"
   ]
  },
  {
   "cell_type": "code",
   "execution_count": null,
   "metadata": {},
   "outputs": [],
   "source": []
  },
  {
   "cell_type": "markdown",
   "metadata": {},
   "source": [
    "# Tensor Flow:"
   ]
  },
  {
   "cell_type": "code",
   "execution_count": 10,
   "metadata": {},
   "outputs": [
    {
     "data": {
      "text/plain": [
       "'1.13.1'"
      ]
     },
     "execution_count": 10,
     "metadata": {},
     "output_type": "execute_result"
    }
   ],
   "source": [
    "import tensorflow as tf\n",
    "tf.VERSION"
   ]
  },
  {
   "cell_type": "code",
   "execution_count": 11,
   "metadata": {},
   "outputs": [],
   "source": [
    "from tensorflow.keras.preprocessing.image import ImageDataGenerator\n",
    "from tensorflow.keras.models import Sequential\n",
    "from tensorflow.keras.layers import Dense, Dropout, Activation, Flatten\n",
    "from tensorflow.keras.layers import Conv3D, MaxPooling3D"
   ]
  },
  {
   "cell_type": "markdown",
   "metadata": {},
   "source": [
    "## Convolutional neural network"
   ]
  },
  {
   "cell_type": "code",
   "execution_count": 12,
   "metadata": {},
   "outputs": [],
   "source": [
    "tf.enable_eager_execution()"
   ]
  },
  {
   "cell_type": "code",
   "execution_count": null,
   "metadata": {},
   "outputs": [],
   "source": []
  },
  {
   "cell_type": "code",
   "execution_count": null,
   "metadata": {},
   "outputs": [],
   "source": []
  },
  {
   "cell_type": "code",
   "execution_count": null,
   "metadata": {},
   "outputs": [],
   "source": []
  },
  {
   "cell_type": "code",
   "execution_count": null,
   "metadata": {},
   "outputs": [],
   "source": []
  },
  {
   "cell_type": "code",
   "execution_count": null,
   "metadata": {},
   "outputs": [],
   "source": []
  },
  {
   "cell_type": "code",
   "execution_count": null,
   "metadata": {},
   "outputs": [],
   "source": []
  }
 ],
 "metadata": {
  "kernelspec": {
   "display_name": "Python 3",
   "language": "python",
   "name": "python3"
  },
  "language_info": {
   "codemirror_mode": {
    "name": "ipython",
    "version": 3
   },
   "file_extension": ".py",
   "mimetype": "text/x-python",
   "name": "python",
   "nbconvert_exporter": "python",
   "pygments_lexer": "ipython3",
   "version": "3.7.1"
  }
 },
 "nbformat": 4,
 "nbformat_minor": 2
}
